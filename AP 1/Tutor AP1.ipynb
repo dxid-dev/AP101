{
 "cells": [
  {
   "cell_type": "code",
   "execution_count": 1,
   "metadata": {},
   "outputs": [
    {
     "name": "stdout",
     "output_type": "stream",
     "text": [
      "Hello, World\n"
     ]
    }
   ],
   "source": [
    "print (\"Hello, World\")"
   ]
  },
  {
   "cell_type": "code",
   "execution_count": 2,
   "metadata": {},
   "outputs": [
    {
     "name": "stdout",
     "output_type": "stream",
     "text": [
      "Baris 1\n",
      "Baris 2\n",
      "Baris 3\n"
     ]
    }
   ],
   "source": [
    "Ca = '''Baris 1\n",
    "Baris 2\n",
    "Baris 3'''\n",
    "print(Ca)"
   ]
  },
  {
   "cell_type": "code",
   "execution_count": 3,
   "metadata": {},
   "outputs": [
    {
     "name": "stdout",
     "output_type": "stream",
     "text": [
      "Angka = 99999.000000\n"
     ]
    }
   ],
   "source": [
    "print (\"Angka = %f\" % 99999)"
   ]
  },
  {
   "cell_type": "code",
   "execution_count": 4,
   "metadata": {},
   "outputs": [
    {
     "name": "stdout",
     "output_type": "stream",
     "text": [
      "NPM = 140310200000\n"
     ]
    }
   ],
   "source": [
    "npm = 140310200000\n",
    "print (\"NPM = %d\" % npm)"
   ]
  },
  {
   "cell_type": "code",
   "execution_count": 5,
   "metadata": {},
   "outputs": [
    {
     "name": "stdout",
     "output_type": "stream",
     "text": [
      "NPM = 140310200000.000000\n"
     ]
    }
   ],
   "source": [
    "print (\"NPM = %f\" % npm)"
   ]
  },
  {
   "cell_type": "code",
   "execution_count": 6,
   "metadata": {},
   "outputs": [
    {
     "name": "stdout",
     "output_type": "stream",
     "text": [
      "Nilai m = 2.50\n"
     ]
    }
   ],
   "source": [
    "m = 2.5\n",
    "print (\"Nilai m = %.2f\" % m)"
   ]
  },
  {
   "cell_type": "code",
   "execution_count": 7,
   "metadata": {},
   "outputs": [
    {
     "name": "stdout",
     "output_type": "stream",
     "text": [
      "Nilai a = Algoritma \n",
      " Pemrograman\n"
     ]
    }
   ],
   "source": [
    "a = 'Algoritma \\n Pemrograman'\n",
    "print (\"Nilai a = %s\" % a)"
   ]
  },
  {
   "cell_type": "code",
   "execution_count": 8,
   "metadata": {},
   "outputs": [
    {
     "name": "stdout",
     "output_type": "stream",
     "text": [
      "Nilai a = 'Algoritma \\n Pemrograman'\n"
     ]
    }
   ],
   "source": [
    "print (\"Nilai a = %r\" % a)"
   ]
  },
  {
   "cell_type": "code",
   "execution_count": 9,
   "metadata": {},
   "outputs": [
    {
     "name": "stdout",
     "output_type": "stream",
     "text": [
      "Algoritma \n",
      " Pemrograman 2.500000\n"
     ]
    }
   ],
   "source": [
    "print (\"%s %f\" % (a,m))"
   ]
  },
  {
   "cell_type": "code",
   "execution_count": null,
   "metadata": {},
   "outputs": [],
   "source": []
  }
 ],
 "metadata": {
  "kernelspec": {
   "display_name": "Python 3",
   "language": "python",
   "name": "python3"
  },
  "language_info": {
   "codemirror_mode": {
    "name": "ipython",
    "version": 3
   },
   "file_extension": ".py",
   "mimetype": "text/x-python",
   "name": "python",
   "nbconvert_exporter": "python",
   "pygments_lexer": "ipython3",
   "version": "3.8.3"
  }
 },
 "nbformat": 4,
 "nbformat_minor": 4
}
