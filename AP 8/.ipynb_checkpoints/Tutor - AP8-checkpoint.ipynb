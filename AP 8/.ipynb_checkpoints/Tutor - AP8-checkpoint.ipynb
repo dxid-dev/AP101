{
 "cells": [
  {
   "cell_type": "markdown",
   "metadata": {},
   "source": [
    "<img style=\"float:left;width:200px\" src=\"np.png\" /><br><br><br><br>\n",
    "<b>Import NumPhy</b><br>"
   ]
  },
  {
   "cell_type": "code",
   "execution_count": 1,
   "metadata": {},
   "outputs": [],
   "source": [
    "import numpy as np"
   ]
  },
  {
   "cell_type": "markdown",
   "metadata": {},
   "source": [
    "<b>PENDAHULUAN</b><br>\n",
    "Deklarasi Array"
   ]
  },
  {
   "cell_type": "code",
   "execution_count": 2,
   "metadata": {},
   "outputs": [
    {
     "name": "stdout",
     "output_type": "stream",
     "text": [
      "[1 4 5 8 2]\n"
     ]
    }
   ],
   "source": [
    "arr = np.array([1, 4, 5, 8, 2])\n",
    "print(arr)"
   ]
  },
  {
   "cell_type": "markdown",
   "metadata": {},
   "source": [
    "Deklarasi dengan jumlah komponen Array"
   ]
  },
  {
   "cell_type": "code",
   "execution_count": 3,
   "metadata": {
    "scrolled": true
   },
   "outputs": [
    {
     "name": "stdout",
     "output_type": "stream",
     "text": [
      "[ 0  1  2  3  4  5  6  7  8  9 10 11 12 13 14 15 16 17 18 19]\n"
     ]
    }
   ],
   "source": [
    "a = np.arange(20)\n",
    "print(a)"
   ]
  },
  {
   "cell_type": "markdown",
   "metadata": {},
   "source": [
    "Mengubah bentuk Array"
   ]
  },
  {
   "cell_type": "code",
   "execution_count": 4,
   "metadata": {},
   "outputs": [
    {
     "name": "stdout",
     "output_type": "stream",
     "text": [
      "[[ 0  1  2  3  4]\n",
      " [ 5  6  7  8  9]\n",
      " [10 11 12 13 14]\n",
      " [15 16 17 18 19]]\n"
     ]
    }
   ],
   "source": [
    "b = a.reshape(4,5)\n",
    "print(b)"
   ]
  },
  {
   "cell_type": "markdown",
   "metadata": {},
   "source": [
    "Memeriksa bentuk Array"
   ]
  },
  {
   "cell_type": "code",
   "execution_count": 5,
   "metadata": {},
   "outputs": [
    {
     "data": {
      "text/plain": [
       "(4, 5)"
      ]
     },
     "execution_count": 5,
     "metadata": {},
     "output_type": "execute_result"
    }
   ],
   "source": [
    "b.shape"
   ]
  },
  {
   "cell_type": "markdown",
   "metadata": {},
   "source": [
    "Memeriksa dimensi array"
   ]
  },
  {
   "cell_type": "code",
   "execution_count": 6,
   "metadata": {},
   "outputs": [
    {
     "data": {
      "text/plain": [
       "2"
      ]
     },
     "execution_count": 6,
     "metadata": {},
     "output_type": "execute_result"
    }
   ],
   "source": [
    "b.ndim"
   ]
  },
  {
   "cell_type": "markdown",
   "metadata": {},
   "source": [
    "Tipe Data Komponen Array"
   ]
  },
  {
   "cell_type": "code",
   "execution_count": 7,
   "metadata": {},
   "outputs": [
    {
     "data": {
      "text/plain": [
       "'int32'"
      ]
     },
     "execution_count": 7,
     "metadata": {},
     "output_type": "execute_result"
    }
   ],
   "source": [
    "b.dtype.name"
   ]
  },
  {
   "cell_type": "markdown",
   "metadata": {},
   "source": [
    "Ukuran byte tiap komponen Array"
   ]
  },
  {
   "cell_type": "code",
   "execution_count": 8,
   "metadata": {},
   "outputs": [
    {
     "data": {
      "text/plain": [
       "4"
      ]
     },
     "execution_count": 8,
     "metadata": {},
     "output_type": "execute_result"
    }
   ],
   "source": [
    "b.itemsize"
   ]
  },
  {
   "cell_type": "markdown",
   "metadata": {},
   "source": [
    "Jumlah komponen Array"
   ]
  },
  {
   "cell_type": "code",
   "execution_count": 9,
   "metadata": {},
   "outputs": [
    {
     "data": {
      "text/plain": [
       "20"
      ]
     },
     "execution_count": 9,
     "metadata": {},
     "output_type": "execute_result"
    }
   ],
   "source": [
    "b.size"
   ]
  },
  {
   "cell_type": "markdown",
   "metadata": {},
   "source": [
    "Tipe Data dan Komponen Array"
   ]
  },
  {
   "cell_type": "code",
   "execution_count": 10,
   "metadata": {},
   "outputs": [
    {
     "name": "stdout",
     "output_type": "stream",
     "text": [
      "<class 'numpy.ndarray'>\n",
      "int32\n"
     ]
    }
   ],
   "source": [
    "tipea=type(b)\n",
    "tiped=b.dtype\n",
    "print(tipea)\n",
    "print(tiped)"
   ]
  },
  {
   "cell_type": "markdown",
   "metadata": {},
   "source": [
    "Linspace<br>\n",
    "Syntax : np.linspace(<b>nilai awal,nilai akhir,jumlah komponen</b>)<br>\n",
    "Default: jumlah komponen=50"
   ]
  },
  {
   "cell_type": "code",
   "execution_count": 11,
   "metadata": {
    "scrolled": true
   },
   "outputs": [
    {
     "name": "stdout",
     "output_type": "stream",
     "text": [
      "[ 1.  2.  3.  4.  5.  6.  7.  8.  9. 10. 11. 12. 13. 14. 15. 16. 17. 18.\n",
      " 19. 20. 21. 22. 23. 24. 25. 26. 27. 28. 29. 30. 31. 32. 33. 34. 35. 36.\n",
      " 37. 38. 39. 40. 41. 42. 43. 44. 45. 46. 47. 48. 49. 50.]\n",
      "[ 1  6 11 16 21 26 31 36 41 46]\n"
     ]
    }
   ],
   "source": [
    "a=np.linspace(1,50)\n",
    "b=np.arange(1,50,5)\n",
    "print(a)\n",
    "print(b)"
   ]
  },
  {
   "cell_type": "markdown",
   "metadata": {},
   "source": [
    "Ones, Zeros, Random"
   ]
  },
  {
   "cell_type": "code",
   "execution_count": 12,
   "metadata": {},
   "outputs": [
    {
     "name": "stdout",
     "output_type": "stream",
     "text": [
      "Ones:\n",
      "[[1. 1. 1.]\n",
      " [1. 1. 1.]]\n",
      "Zeros:\n",
      "[[0. 0. 0. 0. 0. 0.]\n",
      " [0. 0. 0. 0. 0. 0.]\n",
      " [0. 0. 0. 0. 0. 0.]]\n",
      "Random:\n",
      "[[0.10763607 0.66732675 0.45154532]\n",
      " [0.27234239 0.64680236 0.3607571 ]]\n",
      "Identitas:\n",
      "[[1. 0. 0.]\n",
      " [0. 1. 0.]\n",
      " [0. 0. 1.]]\n"
     ]
    }
   ],
   "source": [
    "arr_one = np.ones((2,3))\n",
    "arr_zer = np.zeros((3,6))\n",
    "arr_ran = np.random.random((2,3))\n",
    "print(\"Ones:\\n\" + str(arr_one))\n",
    "print(\"Zeros:\\n\" + str(arr_zer))\n",
    "print(\"Random:\\n\" + str(arr_ran))\n",
    "arr_i = np.eye(3)\n",
    "print(\"Identitas:\\n\" + str(arr_i))"
   ]
  },
  {
   "cell_type": "markdown",
   "metadata": {},
   "source": [
    "<b>OPERASI PADA ARRAY"
   ]
  },
  {
   "cell_type": "code",
   "execution_count": 13,
   "metadata": {},
   "outputs": [],
   "source": [
    "o1 = np.array([3, 5, 1, 2, 4])\n",
    "o2 = np.array([4, 1, 5, 3, 2])"
   ]
  },
  {
   "cell_type": "markdown",
   "metadata": {},
   "source": [
    "Operasi Aritmatika"
   ]
  },
  {
   "cell_type": "code",
   "execution_count": 14,
   "metadata": {},
   "outputs": [
    {
     "name": "stdout",
     "output_type": "stream",
     "text": [
      "[7 6 6 5 6]\n",
      "[-1  4 -4 -1  2]\n",
      "[12  5  5  6  8]\n",
      "[1.5 2.5 0.5 1.  2. ]\n",
      "[ 9 25  1  4 16]\n",
      "7.416198487095663\n"
     ]
    }
   ],
   "source": [
    "print(o1 + o2)\n",
    "print(o1 - o2)\n",
    "print(o1 * o2)\n",
    "print(o1 / 2)\n",
    "print(o1 ** 2)\n",
    "print(np.linalg.norm(o1))"
   ]
  },
  {
   "cell_type": "markdown",
   "metadata": {},
   "source": [
    "Komponen bilangan Kompleks"
   ]
  },
  {
   "cell_type": "code",
   "execution_count": 15,
   "metadata": {},
   "outputs": [
    {
     "name": "stdout",
     "output_type": "stream",
     "text": [
      "[[1.+2.j 2.+0.j]\n",
      " [3.+0.j 4.-3.j]]\n"
     ]
    },
    {
     "data": {
      "text/plain": [
       "dtype('complex128')"
      ]
     },
     "execution_count": 15,
     "metadata": {},
     "output_type": "execute_result"
    }
   ],
   "source": [
    "arr_com = np.array([[1+2j,2], [3,4-3j]])\n",
    "print(arr_com)\n",
    "arr_com.dtype"
   ]
  },
  {
   "cell_type": "markdown",
   "metadata": {},
   "source": [
    "Identifikasi Komponen"
   ]
  },
  {
   "cell_type": "code",
   "execution_count": 16,
   "metadata": {},
   "outputs": [
    {
     "name": "stdout",
     "output_type": "stream",
     "text": [
      "[3 5 1 2 4]\n",
      "Total: 15\n",
      "Nilai maksimal: 5\n",
      "Nilai minimal: 1\n",
      "Rata-rata: 3.0\n",
      "Nilai tengah: 3.0\n"
     ]
    }
   ],
   "source": [
    "print(o1)\n",
    "print(\"Total: \" + str(o1.sum()))\n",
    "print(\"Nilai maksimal: \" + str(o1.max()))\n",
    "print(\"Nilai minimal: \" + str(o1.min()))\n",
    "print(\"Rata-rata: \" + str(o1.mean()))\n",
    "print(\"Nilai tengah: \" + str(np.median(o1)))"
   ]
  },
  {
   "cell_type": "markdown",
   "metadata": {},
   "source": [
    "Determinan dan Invers<br>\n",
    "np.linalg.<b>det</b>(<i>NAMA_ARRAY</i>)<br>\n",
    "np.linalg.<b>inv</b>(<i>NAMA_ARRAY</i>)"
   ]
  },
  {
   "cell_type": "code",
   "execution_count": 17,
   "metadata": {},
   "outputs": [
    {
     "name": "stdout",
     "output_type": "stream",
     "text": [
      "[[ 8 -6]\n",
      " [-6  4]]\n",
      "Determinan = -3.999999999999999\n",
      "Invers=\n",
      "[[-1.  -1.5]\n",
      " [-1.5 -2. ]]\n"
     ]
    }
   ],
   "source": [
    "arr_persegi=np.array([[8,-6],[-6,4]])\n",
    "det=np.linalg.det(arr_persegi)\n",
    "inv=np.linalg.inv(arr_persegi)\n",
    "print(arr_persegi)\n",
    "print(\"Determinan = \" + str(det))\n",
    "print(\"Invers=\\n\" + str(inv))"
   ]
  },
  {
   "cell_type": "markdown",
   "metadata": {},
   "source": [
    "Perkalian Matrix"
   ]
  },
  {
   "cell_type": "code",
   "execution_count": 18,
   "metadata": {},
   "outputs": [
    {
     "name": "stdout",
     "output_type": "stream",
     "text": [
      "m1 =\n",
      "[[2 5]\n",
      " [3 4]]\n",
      "m2 =\n",
      "[[1 7]\n",
      " [2 3]]\n",
      "Hasil Kali = \n",
      "[[12 29]\n",
      " [11 33]]\n"
     ]
    }
   ],
   "source": [
    "m1=np.array([[2,5],[3,4]])\n",
    "m2=np.array([[1,7],[2,3]])\n",
    "print(\"m1 =\\n\" + str(m1))\n",
    "print(\"m2 =\\n\" + str(m2))\n",
    "print(\"Hasil Kali = \")\n",
    "print(np.dot(m1,m2))"
   ]
  },
  {
   "cell_type": "code",
   "execution_count": 19,
   "metadata": {},
   "outputs": [
    {
     "name": "stdout",
     "output_type": "stream",
     "text": [
      "m1 =\n",
      "[ 1  4 -2]\n",
      "m2 =\n",
      "[-2  1  7]\n",
      "Hasil kali = \n",
      "-12\n"
     ]
    }
   ],
   "source": [
    "m1=np.array([1,4,-2])\n",
    "m2=np.array([-2,1,7])\n",
    "print(\"m1 =\\n\" + str(m1))\n",
    "print(\"m2 =\\n\" + str(m2))\n",
    "print(\"Hasil kali = \")\n",
    "print(np.dot(m1,m2))"
   ]
  },
  {
   "cell_type": "code",
   "execution_count": null,
   "metadata": {},
   "outputs": [],
   "source": []
  }
 ],
 "metadata": {
  "kernelspec": {
   "display_name": "Python 3",
   "language": "python",
   "name": "python3"
  },
  "language_info": {
   "codemirror_mode": {
    "name": "ipython",
    "version": 3
   },
   "file_extension": ".py",
   "mimetype": "text/x-python",
   "name": "python",
   "nbconvert_exporter": "python",
   "pygments_lexer": "ipython3",
   "version": "3.8.3"
  }
 },
 "nbformat": 4,
 "nbformat_minor": 4
}
