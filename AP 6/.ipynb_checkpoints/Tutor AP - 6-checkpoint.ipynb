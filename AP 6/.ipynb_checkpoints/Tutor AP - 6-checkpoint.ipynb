{
 "cells": [
  {
   "cell_type": "markdown",
   "metadata": {},
   "source": [
    "<img style=\"float:center;width:400px\" src=\"fungsi.png\" /><br>"
   ]
  },
  {
   "cell_type": "code",
   "execution_count": 1,
   "metadata": {},
   "outputs": [
    {
     "data": {
      "text/plain": [
       "'5 adalah bilangan ganjil'"
      ]
     },
     "execution_count": 1,
     "metadata": {},
     "output_type": "execute_result"
    }
   ],
   "source": [
    "def identify():\n",
    "    a = \"5\"\n",
    "    bil = \"ganjil\"\n",
    "    return a + \" adalah bilangan \" + bil\n",
    "\n",
    "identify()"
   ]
  },
  {
   "cell_type": "code",
   "execution_count": 2,
   "metadata": {},
   "outputs": [
    {
     "name": "stdout",
     "output_type": "stream",
     "text": [
      "90 adalah sebuah bilangan\n"
     ]
    }
   ],
   "source": [
    "def identify(a):\n",
    "    bil = \"sebuah bilangan\"\n",
    "    return a + \" adalah \" + bil\n",
    "\n",
    "print(identify(str(90)))"
   ]
  },
  {
   "cell_type": "code",
   "execution_count": 3,
   "metadata": {},
   "outputs": [
    {
     "name": "stdout",
     "output_type": "stream",
     "text": [
      "K\n",
      "a\n",
      "t\n",
      "a\n",
      "-\n",
      "k\n",
      "a\n",
      "t\n",
      "a\n"
     ]
    }
   ],
   "source": [
    "def vertikal(kata):\n",
    "    for huruf in kata:\n",
    "        print (huruf)\n",
    "\n",
    "word = \"Kata-kata\"\n",
    "vertikal(word)"
   ]
  },
  {
   "cell_type": "code",
   "execution_count": 4,
   "metadata": {},
   "outputs": [
    {
     "name": "stdout",
     "output_type": "stream",
     "text": [
      "y(x)= 2x^2+4x-3\n",
      "y(2) = 13\n",
      "y(3) = 27\n",
      "y(5) = 67\n"
     ]
    }
   ],
   "source": [
    "print(\"y(x)= 2x^2+4x-3\")\n",
    "ye = lambda x: 2*(x**2)+4*x-3\n",
    "\n",
    "x = 2\n",
    "n = 3\n",
    "\n",
    "print(\"y(%d) = %d\" % (x, ye(x)))\n",
    "print(\"y(%d) = %d\" % (n, ye(n)))\n",
    "print(\"y(%d) = %d\" % (5, ye(5)))"
   ]
  },
  {
   "cell_type": "code",
   "execution_count": 5,
   "metadata": {},
   "outputs": [
    {
     "name": "stdout",
     "output_type": "stream",
     "text": [
      "y(2) = 13\n",
      "y(3) = 27\n",
      "y(5) = 67\n"
     ]
    }
   ],
   "source": [
    "def yee(angka):\n",
    "    hasil=2*(angka**2)+4*angka-3\n",
    "    return hasil\n",
    "\n",
    "x = 2\n",
    "n = 3\n",
    "\n",
    "print(\"y(%d) = %d\" % (x, yee(x)))\n",
    "print(\"y(%d) = %d\" % (n, yee(n)))\n",
    "print(\"y(%d) = %d\" % (5, yee(5)))"
   ]
  }
 ],
 "metadata": {
  "kernelspec": {
   "display_name": "Python 3",
   "language": "python",
   "name": "python3"
  },
  "language_info": {
   "codemirror_mode": {
    "name": "ipython",
    "version": 3
   },
   "file_extension": ".py",
   "mimetype": "text/x-python",
   "name": "python",
   "nbconvert_exporter": "python",
   "pygments_lexer": "ipython3",
   "version": "3.8.3"
  }
 },
 "nbformat": 4,
 "nbformat_minor": 4
}
