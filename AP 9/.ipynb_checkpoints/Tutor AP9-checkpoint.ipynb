{
 "cells": [
  {
   "cell_type": "markdown",
   "metadata": {},
   "source": [
    "<img style=\"float:left;width:150px\" src=\"sympy.png\" /><br><br><br><br><br>"
   ]
  },
  {
   "cell_type": "code",
   "execution_count": 1,
   "metadata": {},
   "outputs": [],
   "source": [
    "import math as mt\n",
    "import sympy as sy"
   ]
  },
  {
   "cell_type": "code",
   "execution_count": 2,
   "metadata": {},
   "outputs": [
    {
     "data": {
      "text/plain": [
       "3.4641016151377544"
      ]
     },
     "metadata": {},
     "output_type": "display_data"
    },
    {
     "data": {
      "text/latex": [
       "$\\displaystyle 2 \\sqrt{3}$"
      ],
      "text/plain": [
       "2*sqrt(3)"
      ]
     },
     "metadata": {},
     "output_type": "display_data"
    }
   ],
   "source": [
    "a = mt.sqrt(12)\n",
    "display(a)\n",
    "b = sy.sqrt(12)\n",
    "display(b)"
   ]
  },
  {
   "cell_type": "markdown",
   "metadata": {},
   "source": [
    "<b> Import SymPy"
   ]
  },
  {
   "cell_type": "code",
   "execution_count": 3,
   "metadata": {},
   "outputs": [],
   "source": [
    "from sympy import *"
   ]
  },
  {
   "cell_type": "markdown",
   "metadata": {},
   "source": [
    "<b> Deklarasi Variabel"
   ]
  },
  {
   "cell_type": "code",
   "execution_count": 4,
   "metadata": {},
   "outputs": [],
   "source": [
    "x,y,n = symbols('x y n')"
   ]
  },
  {
   "cell_type": "markdown",
   "metadata": {},
   "source": [
    "<b> Operasi Aljabar"
   ]
  },
  {
   "cell_type": "code",
   "execution_count": 5,
   "metadata": {},
   "outputs": [
    {
     "data": {
      "text/latex": [
       "$\\displaystyle 4 x + 5 y$"
      ],
      "text/plain": [
       "4*x + 5*y"
      ]
     },
     "metadata": {},
     "output_type": "display_data"
    },
    {
     "data": {
      "text/latex": [
       "$\\displaystyle 2 x + 5 y$"
      ],
      "text/plain": [
       "2*x + 5*y"
      ]
     },
     "metadata": {},
     "output_type": "display_data"
    },
    {
     "data": {
      "text/latex": [
       "$\\displaystyle n + 4 x + 5 y$"
      ],
      "text/plain": [
       "n + 4*x + 5*y"
      ]
     },
     "metadata": {},
     "output_type": "display_data"
    },
    {
     "data": {
      "text/latex": [
       "$\\displaystyle n \\left(n + 4 x + 5 y\\right)$"
      ],
      "text/plain": [
       "n*(n + 4*x + 5*y)"
      ]
     },
     "metadata": {},
     "output_type": "display_data"
    },
    {
     "data": {
      "text/latex": [
       "$\\displaystyle n^{2} + 4 n x + 5 n y$"
      ],
      "text/plain": [
       "n**2 + 4*n*x + 5*n*y"
      ]
     },
     "metadata": {},
     "output_type": "display_data"
    }
   ],
   "source": [
    "z = 4*x + 5*y\n",
    "a = z+n\n",
    "\n",
    "display(z)\n",
    "display(z-2*x)\n",
    "display(a)\n",
    "display(a*n)\n",
    "display(expand(a*n))"
   ]
  },
  {
   "cell_type": "markdown",
   "metadata": {},
   "source": [
    "<b> Akar-akar Persamaan Kuadrat"
   ]
  },
  {
   "cell_type": "code",
   "execution_count": 6,
   "metadata": {},
   "outputs": [
    {
     "data": {
      "text/latex": [
       "$\\displaystyle x^{2} - 5 x - 14$"
      ],
      "text/plain": [
       "x**2 - 5*x - 14"
      ]
     },
     "metadata": {},
     "output_type": "display_data"
    },
    {
     "data": {
      "text/latex": [
       "$\\displaystyle \\left(x - 7\\right) \\left(x + 2\\right)$"
      ],
      "text/plain": [
       "(x - 7)*(x + 2)"
      ]
     },
     "metadata": {},
     "output_type": "display_data"
    },
    {
     "data": {
      "text/plain": [
       "[-2, 7]"
      ]
     },
     "metadata": {},
     "output_type": "display_data"
    }
   ],
   "source": [
    "pers1= x**2-5*x-14\n",
    "f = factor(pers1)\n",
    "akar = solve(pers1)\n",
    "display(pers1)\n",
    "display(f)\n",
    "display(akar)"
   ]
  },
  {
   "cell_type": "markdown",
   "metadata": {},
   "source": [
    "<b> Turunan dan Integral </b><br><br>\n",
    "Diferensial<br>\n",
    "<b>diff</b>(f,x)=$\\frac{df(x)}{dx}$<br><br>\n",
    "Integral tak tentu <br>\n",
    "<b>integrate</b>(f,x) = $\\int f(x)  dx$ <br><br>\n",
    "Integral tentu <br>\n",
    "<b>integrate</b>(f, (x, b, a)) = $\\int_b^a f(x)  dx$ <br>"
   ]
  },
  {
   "cell_type": "code",
   "execution_count": 7,
   "metadata": {},
   "outputs": [
    {
     "data": {
      "text/latex": [
       "$\\displaystyle x^{2} - 5 x - 14$"
      ],
      "text/plain": [
       "x**2 - 5*x - 14"
      ]
     },
     "metadata": {},
     "output_type": "display_data"
    },
    {
     "data": {
      "text/latex": [
       "$\\displaystyle 2 x - 5$"
      ],
      "text/plain": [
       "2*x - 5"
      ]
     },
     "metadata": {},
     "output_type": "display_data"
    },
    {
     "data": {
      "text/latex": [
       "$\\displaystyle \\frac{x^{3}}{3} - \\frac{5 x^{2}}{2} - 14 x$"
      ],
      "text/plain": [
       "x**3/3 - 5*x**2/2 - 14*x"
      ]
     },
     "metadata": {},
     "output_type": "display_data"
    },
    {
     "data": {
      "text/latex": [
       "$\\displaystyle \\frac{115}{6}$"
      ],
      "text/plain": [
       "115/6"
      ]
     },
     "metadata": {},
     "output_type": "display_data"
    },
    {
     "data": {
      "text/latex": [
       "$\\displaystyle -20$"
      ],
      "text/plain": [
       "-20"
      ]
     },
     "metadata": {},
     "output_type": "display_data"
    }
   ],
   "source": [
    "turun = diff(pers1,x)\n",
    "integ1 = integrate(pers1,x)\n",
    "integ2 = integrate(pers1,(x,2,1))\n",
    "display(pers1)\n",
    "display(turun)\n",
    "display(integ1)\n",
    "display(integ2)\n",
    "ht=pers1.subs(x,2)\n",
    "display(ht)"
   ]
  },
  {
   "cell_type": "code",
   "execution_count": 8,
   "metadata": {},
   "outputs": [
    {
     "data": {
      "text/latex": [
       "$\\displaystyle e^{2 x} + \\cos{\\left(x \\right)}$"
      ],
      "text/plain": [
       "exp(2*x) + cos(x)"
      ]
     },
     "metadata": {},
     "output_type": "display_data"
    },
    {
     "data": {
      "text/latex": [
       "$\\displaystyle 2 e^{2 x} - \\sin{\\left(x \\right)}$"
      ],
      "text/plain": [
       "2*exp(2*x) - sin(x)"
      ]
     },
     "metadata": {},
     "output_type": "display_data"
    },
    {
     "data": {
      "text/latex": [
       "$\\displaystyle \\frac{e^{2 x}}{2} + \\sin{\\left(x \\right)}$"
      ],
      "text/plain": [
       "exp(2*x)/2 + sin(x)"
      ]
     },
     "metadata": {},
     "output_type": "display_data"
    },
    {
     "data": {
      "text/latex": [
       "$\\displaystyle - \\frac{1}{2} + \\sin{\\left(1 \\right)} + \\frac{e^{2}}{2}$"
      ],
      "text/plain": [
       "-1/2 + sin(1) + exp(2)/2"
      ]
     },
     "metadata": {},
     "output_type": "display_data"
    }
   ],
   "source": [
    "pers2 = exp(2*x)+cos(x)\n",
    "turun = diff(pers2,x)\n",
    "integ1 = integrate(pers2,x)\n",
    "integ2 = integrate(pers2,(x,0,1))\n",
    "display(pers2)\n",
    "display(turun)\n",
    "display(integ1)\n",
    "display(integ2)"
   ]
  },
  {
   "cell_type": "markdown",
   "metadata": {},
   "source": [
    "<br><b>limit</b>(f, x, a) = $\\lim_{x \\to a} f(x) $"
   ]
  },
  {
   "cell_type": "code",
   "execution_count": 9,
   "metadata": {},
   "outputs": [
    {
     "data": {
      "text/latex": [
       "$\\displaystyle \\frac{\\sin{\\left(x \\right)}}{x}$"
      ],
      "text/plain": [
       "sin(x)/x"
      ]
     },
     "metadata": {},
     "output_type": "display_data"
    },
    {
     "data": {
      "text/latex": [
       "$\\displaystyle \\sin{\\left(1 \\right)}$"
      ],
      "text/plain": [
       "sin(1)"
      ]
     },
     "metadata": {},
     "output_type": "display_data"
    }
   ],
   "source": [
    "pers3 = sin(x)/x\n",
    "lim = limit(pers3, x, 1)\n",
    "display(pers3)\n",
    "display(lim)"
   ]
  },
  {
   "cell_type": "code",
   "execution_count": 10,
   "metadata": {},
   "outputs": [
    {
     "data": {
      "text/latex": [
       "$\\displaystyle 2 \\cos{\\left(3 x - 2 \\right)}$"
      ],
      "text/plain": [
       "2*cos(3*x - 2)"
      ]
     },
     "metadata": {},
     "output_type": "display_data"
    }
   ],
   "source": [
    "y=2*cos((-3*x)+(2))\n",
    "display(y)"
   ]
  },
  {
   "cell_type": "code",
   "execution_count": null,
   "metadata": {},
   "outputs": [],
   "source": []
  }
 ],
 "metadata": {
  "kernelspec": {
   "display_name": "Python 3",
   "language": "python",
   "name": "python3"
  },
  "language_info": {
   "codemirror_mode": {
    "name": "ipython",
    "version": 3
   },
   "file_extension": ".py",
   "mimetype": "text/x-python",
   "name": "python",
   "nbconvert_exporter": "python",
   "pygments_lexer": "ipython3",
   "version": "3.8.3"
  }
 },
 "nbformat": 4,
 "nbformat_minor": 4
}
