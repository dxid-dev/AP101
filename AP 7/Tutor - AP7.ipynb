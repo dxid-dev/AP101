{
 "cells": [
  {
   "cell_type": "markdown",
   "metadata": {},
   "source": [
    "<b>Import Matplotlib</b><br>\n",
    "<img style=\"float:left;width:300px\" src=\"mpl.svg\" /><br>"
   ]
  },
  {
   "cell_type": "code",
   "execution_count": null,
   "metadata": {},
   "outputs": [],
   "source": [
    "import matplotlib.pyplot as pt"
   ]
  },
  {
   "cell_type": "markdown",
   "metadata": {},
   "source": [
    "<b>Deklarasi data</b>"
   ]
  },
  {
   "cell_type": "code",
   "execution_count": null,
   "metadata": {},
   "outputs": [],
   "source": [
    "# Deklarasi data x dan y\n",
    "data_x = [1, 2, 3, 4, 5, 6]\n",
    "data_y = [12, 16, 18, 23, 27, 30]"
   ]
  },
  {
   "cell_type": "markdown",
   "metadata": {},
   "source": [
    "<b>Plot Grafik Kartesian</b>"
   ]
  },
  {
   "cell_type": "code",
   "execution_count": null,
   "metadata": {},
   "outputs": [],
   "source": [
    "# Plot data\n",
    "pt.plot(data_y,data_x)\n",
    "\n",
    "# Menampilkan grafik\n",
    "pt.show()"
   ]
  },
  {
   "cell_type": "markdown",
   "metadata": {},
   "source": [
    "<b>Penambahan Kelengkapan Grafik</b>"
   ]
  },
  {
   "cell_type": "code",
   "execution_count": null,
   "metadata": {},
   "outputs": [],
   "source": [
    "pt.plot (data_x,data_y)\n",
    "\n",
    "# Judul grafik\n",
    "pt.title('Ini Judul Grafik')\n",
    "\n",
    "# Penamaan sumbu grafik\n",
    "pt.xlabel('Ini sumbu x')\n",
    "pt.ylabel('Ini sumbu y')\n",
    "\n",
    "# Kotak/Grid\n",
    "pt.grid()\n",
    "\n",
    "pt.show()"
   ]
  },
  {
   "cell_type": "markdown",
   "metadata": {},
   "source": [
    "<b>Plot Diagram Lingkaran</b>"
   ]
  },
  {
   "cell_type": "code",
   "execution_count": null,
   "metadata": {},
   "outputs": [],
   "source": [
    "# Deklarasi Data\n",
    "angkatan = [2018, 2019, 2020]\n",
    "jumlah = [76, 67, 63]\n",
    "\n",
    "# Plot Diagram Lingkaran\n",
    "pt.pie(jumlah, labels=angkatan, autopct='%1.2f%%')\n",
    "\n",
    "# Judul Diagram\n",
    "pt.title(\"Jumlah Mahasiswa Prodi Fisika per Tahun\")\n",
    "\n",
    "pt.show()"
   ]
  },
  {
   "cell_type": "code",
   "execution_count": null,
   "metadata": {},
   "outputs": [],
   "source": [
    "# Plot Diagram Batang\n",
    "pt.bar(angkatan,jumlah)\n",
    "\n",
    "# Judul Grafik dan Penamaan Sumbu\n",
    "pt.title(\"Jumlah Mahasiswa Prodi Fisika per Tahun\")\n",
    "pt.xlabel('Tahun')\n",
    "pt.ylabel('Jumlah')\n",
    "\n",
    "pt.show()"
   ]
  },
  {
   "cell_type": "markdown",
   "metadata": {},
   "source": [
    "<b>Import NumPhy</b><br>\n",
    "<img style=\"float:left;width:200px\" src=\"np.png\" /><br>"
   ]
  },
  {
   "cell_type": "code",
   "execution_count": null,
   "metadata": {},
   "outputs": [],
   "source": [
    "import numpy as np"
   ]
  },
  {
   "cell_type": "markdown",
   "metadata": {},
   "source": [
    "<b>Deklarasi data</b>"
   ]
  },
  {
   "cell_type": "code",
   "execution_count": null,
   "metadata": {},
   "outputs": [],
   "source": [
    "# Deklarasi data\n",
    "x = np.arange(0, 2*np.pi, 0.1)\n",
    "y1 = np.sin(x)\n",
    "y2 = np.cos(x)"
   ]
  },
  {
   "cell_type": "markdown",
   "metadata": {},
   "source": [
    "<b> Plot Grafik Kartesian"
   ]
  },
  {
   "cell_type": "code",
   "execution_count": null,
   "metadata": {},
   "outputs": [],
   "source": [
    "pt.plot(x,y1, 'r', label = 'sin(x)')\n",
    "pt.plot(x,y2, '*b', label = 'cos(x)')\n",
    "pt.xlabel('x')\n",
    "pt.ylabel('y')\n",
    "pt.legend()\n",
    "pt.show()"
   ]
  },
  {
   "cell_type": "markdown",
   "metadata": {},
   "source": [
    "<b>Custom jenis garis grafik dan warna</b><br>\n",
    "<img style=\"float:left;width:600px\" src=\"styl.png\"/>"
   ]
  },
  {
   "cell_type": "markdown",
   "metadata": {},
   "source": [
    "<b>Subplot"
   ]
  },
  {
   "cell_type": "code",
   "execution_count": null,
   "metadata": {},
   "outputs": [],
   "source": [
    "fig, (ax1, ax2) = pt.subplots(2,1)\n",
    "fig.suptitle('Contoh Subplot')\n",
    "ax1.plot(x, y1)\n",
    "ax1.set_title('Sinus')\n",
    "ax2.plot(x, y2)\n",
    "ax2.set_title('Cosinus')\n",
    "pt.show()"
   ]
  },
  {
   "cell_type": "code",
   "execution_count": null,
   "metadata": {},
   "outputs": [],
   "source": []
  }
 ],
 "metadata": {
  "kernelspec": {
   "display_name": "Python 3",
   "language": "python",
   "name": "python3"
  },
  "language_info": {
   "codemirror_mode": {
    "name": "ipython",
    "version": 3
   },
   "file_extension": ".py",
   "mimetype": "text/x-python",
   "name": "python",
   "nbconvert_exporter": "python",
   "pygments_lexer": "ipython3",
   "version": "3.8.3"
  }
 },
 "nbformat": 4,
 "nbformat_minor": 4
}
