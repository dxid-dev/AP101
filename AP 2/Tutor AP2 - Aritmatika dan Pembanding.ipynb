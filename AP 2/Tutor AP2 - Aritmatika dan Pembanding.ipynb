{
 "cells": [
  {
   "cell_type": "markdown",
   "metadata": {},
   "source": [
    "# Tutor AP 2"
   ]
  },
  {
   "cell_type": "markdown",
   "metadata": {},
   "source": [
    "Aritmatika"
   ]
  },
  {
   "cell_type": "code",
   "execution_count": 1,
   "metadata": {},
   "outputs": [
    {
     "name": "stdout",
     "output_type": "stream",
     "text": [
      "9 + 2 = 11\n",
      "9.00 - 2.00 = 7.0000\n",
      "9.000000 x 2.000000 = 18.000000\n",
      "9.000000 / 2.000000 = 4.500000\n",
      "9.000000 / 2.000000 = 4.000000 (dibulatkan ke bawah)\n",
      "9.000000 / 2.000000 sisa hasil bagi 1.000000\n",
      "(-)9.000000 = -9.000000\n",
      "9.000000^2 = 81.000000\n"
     ]
    }
   ],
   "source": [
    "m = 9\n",
    "n = 2\n",
    "print (\"%.f + %.f = %.f\" % (m, n, m + n))\n",
    "print (\"%.2f - %.2f = %.4f\" % (m, n, m - n))\n",
    "print (\"%f x %f = %f\" % (m, n, m * n))\n",
    "print (\"%f / %f = %f\" % (m, n, m / n))\n",
    "print (\"%f / %f = %f (dibulatkan ke bawah)\" % (m, n, m // n))\n",
    "print (\"%f / %f sisa hasil bagi %f\" % (m, n, m % n))\n",
    "print (\"(-)%f = %f\" % (m, -m))\n",
    "print (\"%f^2 = %f\" % (m, m**2))"
   ]
  },
  {
   "cell_type": "markdown",
   "metadata": {},
   "source": [
    "Pembanding"
   ]
  },
  {
   "cell_type": "code",
   "execution_count": 2,
   "metadata": {},
   "outputs": [
    {
     "name": "stdout",
     "output_type": "stream",
     "text": [
      "m = n : False\n",
      "m != n : True\n",
      "m > n : False\n",
      "m < n : True\n",
      "m >= n : False\n",
      "m <= n : True\n"
     ]
    }
   ],
   "source": [
    "m = 4\n",
    "n = 8\n",
    "print (\"m = n : \" + str(m == n))\n",
    "print (\"m != n : \" + str(m != n))\n",
    "print (\"m > n : \" + str(m > n))\n",
    "print (\"m < n : \" + str(m < n))\n",
    "print (\"m >= n : \" + str(m >= n))\n",
    "print (\"m <= n : \" + str(m <= n))"
   ]
  },
  {
   "cell_type": "code",
   "execution_count": 3,
   "metadata": {},
   "outputs": [
    {
     "data": {
      "text/plain": [
       "False"
      ]
     },
     "execution_count": 3,
     "metadata": {},
     "output_type": "execute_result"
    }
   ],
   "source": [
    "m==n"
   ]
  },
  {
   "cell_type": "code",
   "execution_count": 4,
   "metadata": {},
   "outputs": [
    {
     "data": {
      "text/plain": [
       "0"
      ]
     },
     "execution_count": 4,
     "metadata": {},
     "output_type": "execute_result"
    }
   ],
   "source": [
    "int(m==n)"
   ]
  },
  {
   "cell_type": "code",
   "execution_count": null,
   "metadata": {},
   "outputs": [],
   "source": []
  }
 ],
 "metadata": {
  "kernelspec": {
   "display_name": "Python 3",
   "language": "python",
   "name": "python3"
  },
  "language_info": {
   "codemirror_mode": {
    "name": "ipython",
    "version": 3
   },
   "file_extension": ".py",
   "mimetype": "text/x-python",
   "name": "python",
   "nbconvert_exporter": "python",
   "pygments_lexer": "ipython3",
   "version": "3.8.3"
  }
 },
 "nbformat": 4,
 "nbformat_minor": 4
}
