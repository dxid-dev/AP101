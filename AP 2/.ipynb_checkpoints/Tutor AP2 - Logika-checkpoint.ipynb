{
 "cells": [
  {
   "cell_type": "markdown",
   "metadata": {},
   "source": [
    "<img style=\"float:center;width:500px\" src=\"bitwise2.jpg\" /><br>\n",
    "<img style=\"float:center;width:400px\" src=\"logical.gif\" /><br>"
   ]
  },
  {
   "cell_type": "code",
   "execution_count": 1,
   "metadata": {},
   "outputs": [],
   "source": [
    "l = 9\n",
    "m = 7\n",
    "n = 12"
   ]
  },
  {
   "cell_type": "code",
   "execution_count": 2,
   "metadata": {},
   "outputs": [
    {
     "name": "stdout",
     "output_type": "stream",
     "text": [
      "(m >= l): False\n",
      "(m <= n) : True\n"
     ]
    }
   ],
   "source": [
    "print (\"(m >= l): \" + str(m >= l))\n",
    "print (\"(m <= n) : \" + str(m <= n))"
   ]
  },
  {
   "cell_type": "code",
   "execution_count": 3,
   "metadata": {},
   "outputs": [
    {
     "name": "stdout",
     "output_type": "stream",
     "text": [
      "(m >= l) and (m <= n) : False\n"
     ]
    }
   ],
   "source": [
    "print (\"(m >= l) and (m <= n) : \" + str((m >= l) and (m <= n)))"
   ]
  },
  {
   "cell_type": "code",
   "execution_count": 4,
   "metadata": {},
   "outputs": [
    {
     "name": "stdout",
     "output_type": "stream",
     "text": [
      "(m >= l) or (m <= n) : True\n"
     ]
    }
   ],
   "source": [
    "print (\"(m >= l) or (m <= n) : \" + str((m >= l) or (m <= n)))"
   ]
  },
  {
   "cell_type": "code",
   "execution_count": 5,
   "metadata": {},
   "outputs": [
    {
     "name": "stdout",
     "output_type": "stream",
     "text": [
      "not((m >= l) and (m <= n)) : True\n"
     ]
    }
   ],
   "source": [
    "print (\"not((m >= l) and (m <= n)) : \" + str(not((m >= l) and (m <= n))))"
   ]
  },
  {
   "cell_type": "code",
   "execution_count": null,
   "metadata": {},
   "outputs": [],
   "source": []
  }
 ],
 "metadata": {
  "kernelspec": {
   "display_name": "Python 3",
   "language": "python",
   "name": "python3"
  },
  "language_info": {
   "codemirror_mode": {
    "name": "ipython",
    "version": 3
   },
   "file_extension": ".py",
   "mimetype": "text/x-python",
   "name": "python",
   "nbconvert_exporter": "python",
   "pygments_lexer": "ipython3",
   "version": "3.8.3"
  }
 },
 "nbformat": 4,
 "nbformat_minor": 4
}
